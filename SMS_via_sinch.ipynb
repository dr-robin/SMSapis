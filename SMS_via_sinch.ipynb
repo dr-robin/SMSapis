{
 "cells": [
  {
   "cell_type": "code",
   "execution_count": 8,
   "metadata": {},
   "outputs": [],
   "source": [
    "#sending SMS using sinch api\n",
    "#make user account at https://www.sinch.com/\n",
    "#save app_key and app_secret in gitignore file\n",
    "\n",
    "import time\n",
    "from time import sleep\n",
    "from sinchsms import SinchSMS\n",
    "import config"
   ]
  },
  {
   "cell_type": "code",
   "execution_count": null,
   "metadata": {},
   "outputs": [],
   "source": [
    "def sendSMS():\n",
    "    number=input('Enter phone number:')\n",
    "    app_key=config.app_key\n",
    "    app_secret=config.app_secret\n",
    "    \n",
    "    message=input('Enter message:')\n",
    "    \n",
    "    client=SinchSMS(app_key,app_secret)\n",
    "    #print('sending %s to %s' (message, number))\n",
    "    \n",
    "    response=client.send_message(number, message)\n",
    "    message_id=response['messageId']\n",
    "    response=client.check_status(message_id)\n",
    "\n",
    "    while response['status'] != 'Successful':\n",
    "        print(response['status'])\n",
    "        time.sleep(1)\n",
    "        response=client.check_status(message_id)\n",
    "    print(response['status'])\n",
    "    \n",
    "if __name__ == '__main__':\n",
    "    sendSMS()"
   ]
  },
  {
   "cell_type": "code",
   "execution_count": null,
   "metadata": {},
   "outputs": [],
   "source": []
  }
 ],
 "metadata": {
  "kernelspec": {
   "display_name": "Python 3",
   "language": "python",
   "name": "python3"
  },
  "language_info": {
   "codemirror_mode": {
    "name": "ipython",
    "version": 3
   },
   "file_extension": ".py",
   "mimetype": "text/x-python",
   "name": "python",
   "nbconvert_exporter": "python",
   "pygments_lexer": "ipython3",
   "version": "3.8.5"
  }
 },
 "nbformat": 4,
 "nbformat_minor": 4
}
